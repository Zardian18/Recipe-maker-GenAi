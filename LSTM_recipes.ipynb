{
  "nbformat": 4,
  "nbformat_minor": 0,
  "metadata": {
    "colab": {
      "provenance": [],
      "gpuType": "T4",
      "authorship_tag": "ABX9TyMR1p5uRsNujIs2ibXYmWdZ",
      "include_colab_link": true
    },
    "kernelspec": {
      "name": "python3",
      "display_name": "Python 3"
    },
    "language_info": {
      "name": "python"
    },
    "accelerator": "GPU"
  },
  "cells": [
    {
      "cell_type": "markdown",
      "metadata": {
        "id": "view-in-github",
        "colab_type": "text"
      },
      "source": [
        "<a href=\"https://colab.research.google.com/github/Zardian18/Recipe-maker-LSTM/blob/master/LSTM_recipes.ipynb\" target=\"_parent\"><img src=\"https://colab.research.google.com/assets/colab-badge.svg\" alt=\"Open In Colab\"/></a>"
      ]
    },
    {
      "cell_type": "code",
      "execution_count": 1,
      "metadata": {
        "colab": {
          "base_uri": "https://localhost:8080/"
        },
        "id": "iZ2EpEQ6PbT_",
        "outputId": "389188f2-35cc-4050-ac6e-5d20780ffd5b"
      },
      "outputs": [
        {
          "output_type": "stream",
          "name": "stdout",
          "text": [
            "--2024-01-11 21:48:19--  https://raw.githubusercontent.com/Zardian18/helper-functions-colab/master/helper.py\n",
            "Resolving raw.githubusercontent.com (raw.githubusercontent.com)... 185.199.109.133, 185.199.111.133, 185.199.110.133, ...\n",
            "Connecting to raw.githubusercontent.com (raw.githubusercontent.com)|185.199.109.133|:443... connected.\n",
            "HTTP request sent, awaiting response... 200 OK\n",
            "Length: 17171 (17K) [text/plain]\n",
            "Saving to: ‘helper.py’\n",
            "\n",
            "helper.py           100%[===================>]  16.77K  --.-KB/s    in 0s      \n",
            "\n",
            "2024-01-11 21:48:19 (39.0 MB/s) - ‘helper.py’ saved [17171/17171]\n",
            "\n"
          ]
        }
      ],
      "source": [
        "!wget https://raw.githubusercontent.com/Zardian18/helper-functions-colab/master/helper.py"
      ]
    },
    {
      "cell_type": "code",
      "source": [
        "!pip install kaggle"
      ],
      "metadata": {
        "colab": {
          "base_uri": "https://localhost:8080/"
        },
        "id": "47FWSi9UPoZr",
        "outputId": "c7fca4bf-0667-4e0d-b481-c517178083d1"
      },
      "execution_count": 2,
      "outputs": [
        {
          "output_type": "stream",
          "name": "stdout",
          "text": [
            "Requirement already satisfied: kaggle in /usr/local/lib/python3.10/dist-packages (1.5.16)\n",
            "Requirement already satisfied: six>=1.10 in /usr/local/lib/python3.10/dist-packages (from kaggle) (1.16.0)\n",
            "Requirement already satisfied: certifi in /usr/local/lib/python3.10/dist-packages (from kaggle) (2023.11.17)\n",
            "Requirement already satisfied: python-dateutil in /usr/local/lib/python3.10/dist-packages (from kaggle) (2.8.2)\n",
            "Requirement already satisfied: requests in /usr/local/lib/python3.10/dist-packages (from kaggle) (2.31.0)\n",
            "Requirement already satisfied: tqdm in /usr/local/lib/python3.10/dist-packages (from kaggle) (4.66.1)\n",
            "Requirement already satisfied: python-slugify in /usr/local/lib/python3.10/dist-packages (from kaggle) (8.0.1)\n",
            "Requirement already satisfied: urllib3 in /usr/local/lib/python3.10/dist-packages (from kaggle) (2.0.7)\n",
            "Requirement already satisfied: bleach in /usr/local/lib/python3.10/dist-packages (from kaggle) (6.1.0)\n",
            "Requirement already satisfied: webencodings in /usr/local/lib/python3.10/dist-packages (from bleach->kaggle) (0.5.1)\n",
            "Requirement already satisfied: text-unidecode>=1.3 in /usr/local/lib/python3.10/dist-packages (from python-slugify->kaggle) (1.3)\n",
            "Requirement already satisfied: charset-normalizer<4,>=2 in /usr/local/lib/python3.10/dist-packages (from requests->kaggle) (3.3.2)\n",
            "Requirement already satisfied: idna<4,>=2.5 in /usr/local/lib/python3.10/dist-packages (from requests->kaggle) (3.6)\n"
          ]
        }
      ]
    },
    {
      "cell_type": "code",
      "source": [
        "from google.colab import drive\n",
        "drive.mount(\"/content/drive\")"
      ],
      "metadata": {
        "colab": {
          "base_uri": "https://localhost:8080/"
        },
        "id": "KVXiSuCLPp82",
        "outputId": "17644a30-9cba-4df5-a355-47f25c95f887"
      },
      "execution_count": 3,
      "outputs": [
        {
          "output_type": "stream",
          "name": "stdout",
          "text": [
            "Mounted at /content/drive\n"
          ]
        }
      ]
    },
    {
      "cell_type": "code",
      "source": [
        "! mkdir ~/.kaggle"
      ],
      "metadata": {
        "id": "g0hk7-r-Pr_N"
      },
      "execution_count": 4,
      "outputs": []
    },
    {
      "cell_type": "code",
      "source": [
        "!cp /content/drive/MyDrive/kaggle/kaggle.json ~/.kaggle/kaggle.json"
      ],
      "metadata": {
        "id": "L0nDOyS1PtgS"
      },
      "execution_count": 5,
      "outputs": []
    },
    {
      "cell_type": "code",
      "source": [
        "!chmod 600 ~/.kaggle/kaggle.json"
      ],
      "metadata": {
        "id": "bhUMsVqFPv6H"
      },
      "execution_count": 6,
      "outputs": []
    },
    {
      "cell_type": "code",
      "source": [
        "! kaggle datasets download -d hugodarwood/epirecipes"
      ],
      "metadata": {
        "colab": {
          "base_uri": "https://localhost:8080/"
        },
        "id": "J3jb39_uPz41",
        "outputId": "ada0b120-85fa-4633-9371-edadf7b58ae8"
      },
      "execution_count": 7,
      "outputs": [
        {
          "output_type": "stream",
          "name": "stdout",
          "text": [
            "Downloading epirecipes.zip to /content\n",
            "\r  0% 0.00/11.3M [00:00<?, ?B/s]\n",
            "\r100% 11.3M/11.3M [00:00<00:00, 131MB/s]\n"
          ]
        }
      ]
    },
    {
      "cell_type": "code",
      "source": [
        "! unzip epirecipes.zip"
      ],
      "metadata": {
        "colab": {
          "base_uri": "https://localhost:8080/"
        },
        "id": "FppWJKutP5Wy",
        "outputId": "d5afb054-44bd-4542-a8ba-b8712643dd60"
      },
      "execution_count": 8,
      "outputs": [
        {
          "output_type": "stream",
          "name": "stdout",
          "text": [
            "Archive:  epirecipes.zip\n",
            "  inflating: epi_r.csv               \n",
            "  inflating: full_format_recipes.json  \n",
            "  inflating: recipe.py               \n",
            "  inflating: utils.py                \n"
          ]
        }
      ]
    },
    {
      "cell_type": "code",
      "source": [
        "import numpy as np\n",
        "import json\n",
        "import re\n",
        "import string\n",
        "import tensorflow as tf\n",
        "from tensorflow.keras import layers, models, callbacks, losses"
      ],
      "metadata": {
        "id": "UKJv4Eo5QnOR"
      },
      "execution_count": 9,
      "outputs": []
    },
    {
      "cell_type": "markdown",
      "source": [
        "## Loading the data"
      ],
      "metadata": {
        "id": "RAXpay5kP-2r"
      }
    },
    {
      "cell_type": "code",
      "source": [
        "with open(\"/content/full_format_recipes.json\") as json_data:\n",
        "  recipe_data = json.load(json_data)"
      ],
      "metadata": {
        "id": "rFkp2FQ2QOwW"
      },
      "execution_count": 10,
      "outputs": []
    },
    {
      "cell_type": "code",
      "source": [
        "len(recipe_data)"
      ],
      "metadata": {
        "colab": {
          "base_uri": "https://localhost:8080/"
        },
        "id": "3eYh-mmJQqcs",
        "outputId": "48159361-e064-4bf4-fb2a-5e5181a97a12"
      },
      "execution_count": 11,
      "outputs": [
        {
          "output_type": "execute_result",
          "data": {
            "text/plain": [
              "20130"
            ]
          },
          "metadata": {},
          "execution_count": 11
        }
      ]
    },
    {
      "cell_type": "code",
      "source": [
        "recipe_data[:3]"
      ],
      "metadata": {
        "colab": {
          "base_uri": "https://localhost:8080/"
        },
        "id": "isLew2sXQr9N",
        "outputId": "90fdb5a5-16c5-4a50-a508-4c307f0ea3c1"
      },
      "execution_count": 12,
      "outputs": [
        {
          "output_type": "execute_result",
          "data": {
            "text/plain": [
              "[{'directions': ['1. Place the stock, lentils, celery, carrot, thyme, and salt in a medium saucepan and bring to a boil. Reduce heat to low and simmer until the lentils are tender, about 30 minutes, depending on the lentils. (If they begin to dry out, add water as needed.) Remove and discard the thyme. Drain and transfer the mixture to a bowl; let cool.',\n",
              "   '2. Fold in the tomato, apple, lemon juice, and olive oil. Season with the pepper.',\n",
              "   '3. To assemble a wrap, place 1 lavash sheet on a clean work surface. Spread some of the lentil mixture on the end nearest you, leaving a 1-inch border. Top with several slices of turkey, then some of the lettuce. Roll up the lavash, slice crosswise, and serve. If using tortillas, spread the lentils in the center, top with the turkey and lettuce, and fold up the bottom, left side, and right side before rolling away from you.'],\n",
              "  'fat': 7.0,\n",
              "  'date': '2006-09-01T04:00:00.000Z',\n",
              "  'categories': ['Sandwich',\n",
              "   'Bean',\n",
              "   'Fruit',\n",
              "   'Tomato',\n",
              "   'turkey',\n",
              "   'Vegetable',\n",
              "   'Kid-Friendly',\n",
              "   'Apple',\n",
              "   'Lentil',\n",
              "   'Lettuce',\n",
              "   'Cookie'],\n",
              "  'calories': 426.0,\n",
              "  'desc': None,\n",
              "  'protein': 30.0,\n",
              "  'rating': 2.5,\n",
              "  'title': 'Lentil, Apple, and Turkey Wrap ',\n",
              "  'ingredients': ['4 cups low-sodium vegetable or chicken stock',\n",
              "   '1 cup dried brown lentils',\n",
              "   '1/2 cup dried French green lentils',\n",
              "   '2 stalks celery, chopped',\n",
              "   '1 large carrot, peeled and chopped',\n",
              "   '1 sprig fresh thyme',\n",
              "   '1 teaspoon kosher salt',\n",
              "   '1 medium tomato, cored, seeded, and diced',\n",
              "   '1 small Fuji apple, cored and diced',\n",
              "   '1 tablespoon freshly squeezed lemon juice',\n",
              "   '2 teaspoons extra-virgin olive oil',\n",
              "   'Freshly ground black pepper to taste',\n",
              "   '3 sheets whole-wheat lavash, cut in half crosswise, or 6 (12-inch) flour tortillas',\n",
              "   '3/4 pound turkey breast, thinly sliced',\n",
              "   '1/2 head Bibb lettuce'],\n",
              "  'sodium': 559.0},\n",
              " {'directions': ['Combine first 9 ingredients in heavy medium saucepan. Add 3 shallots. Bring to simmer. Remove from heat, cover and let stand 30 minutes. Chill overnight.',\n",
              "   'Preheat oven to 325°F. Line 7-cup pâté or bread pan with plastic wrap. Melt butter in heavy small skillet over low heat. Add remaining 5 shallots. Cover and cook until very soft, stirring occasionally, about 15 minutes. Transfer to processor. Add pork, eggs, flour and Port and puree. Strain cream mixture, pressing on solids to extract as much liquid as possible. With processor running, add cream through feed tube and process just until combined with pork. Transfer to large bowl. Mix in currants.',\n",
              "   'Spoon mixture into prepared pan. Cover with foil. Place pan in large pan. Add boiling water to larger pan to within 1/2 inch of top of terrine. Bake until terrine begins to shrink from sides of pan and knife inserted into center comes out clean, about 1 1/2 hours. Uncover and cool on rack. Chill until cold. (Can be made 3 days ahead. Cover and chill.)',\n",
              "   'Line platter with lettuce. Arrange terrine atop. Sprinkle with pepper and parsley. Garnish with bay leaves. Spoon confit around sides. Serve with bread.',\n",
              "   'Heat oil in heavy large skillet over medium-high heat. Add onions and sauté until crisp-tender, about 8 minutes. Add all remaining ingredients and stir until reduced to thick glaze, about 4 minutes. Season with salt and pepper. (Can be prepared 2 days ahead. Cover and chill.) Serve warm or at room temperature.'],\n",
              "  'fat': 23.0,\n",
              "  'date': '2004-08-20T04:00:00.000Z',\n",
              "  'categories': ['Food Processor',\n",
              "   'Onion',\n",
              "   'Pork',\n",
              "   'Bake',\n",
              "   'Bastille Day',\n",
              "   \"New Year's Eve\",\n",
              "   'Dried Fruit',\n",
              "   'Port',\n",
              "   'Winter',\n",
              "   'Chill',\n",
              "   'Bon Appétit'],\n",
              "  'calories': 403.0,\n",
              "  'desc': 'This uses the same ingredients found in boudin blanc, the classic French white sausage. Start two days before serving.',\n",
              "  'protein': 18.0,\n",
              "  'rating': 4.375,\n",
              "  'title': 'Boudin Blanc Terrine with Red Onion Confit ',\n",
              "  'ingredients': ['1 1/2 cups whipping cream',\n",
              "   '2 medium onions, chopped',\n",
              "   '5 teaspoons salt',\n",
              "   '3 bay leaves',\n",
              "   '3 whole cloves',\n",
              "   '1 large garlic clove, crushed',\n",
              "   '1 teaspoon pepper',\n",
              "   '1/8 teaspoon ground nutmeg',\n",
              "   'Pinch of dried thyme, crumbled',\n",
              "   '8 large shallots, minced',\n",
              "   '1 tablespoon butter',\n",
              "   '1 pound trimmed boneless center pork loin, sinew removed cut into 1-inch chunks, well chilled',\n",
              "   '3 eggs',\n",
              "   '6 tablespoon all purpose flour',\n",
              "   '1/4 cup tawny Port',\n",
              "   '3 tablespoons dried currants, minced',\n",
              "   'Lettuce leaves',\n",
              "   'Cracked peppercorns',\n",
              "   'Minced fresh parsley',\n",
              "   'Bay leaves',\n",
              "   'French bread baguette slices',\n",
              "   '3 tablespoons olive oil',\n",
              "   '2 large red onions, halved, sliced',\n",
              "   '3 tablespoons dried currants',\n",
              "   '3 tablespoons red wine vinegar',\n",
              "   '1 tablespoons canned chicken broth',\n",
              "   '2 teaspoons chopped fresh thyme or 3/4 teaspoon dried, crumbled',\n",
              "   '1/2 teaspoon sugar'],\n",
              "  'sodium': 1439.0},\n",
              " {'directions': ['In a large heavy saucepan cook diced fennel and onion in butter over moderate heat, stirring, until softened, about 10 minutes. Peel and cube potatoes. Add potatoes and broth to fennel mixture and simmer, covered, until potatoes are very tender, about 20 minutes. In a blender or food processor purée mixture in batches until smooth and return to saucepan. Stir in milk and salt and pepper to taste and simmer soup, stirring occasionally, 10 minutes, or until heated through.',\n",
              "   'Garnish soup with reserved fennel leaves.'],\n",
              "  'fat': 7.0,\n",
              "  'date': '2004-08-20T04:00:00.000Z',\n",
              "  'categories': ['Soup/Stew',\n",
              "   'Dairy',\n",
              "   'Potato',\n",
              "   'Vegetable',\n",
              "   'Fennel',\n",
              "   'Gourmet',\n",
              "   'New York'],\n",
              "  'calories': 165.0,\n",
              "  'desc': None,\n",
              "  'protein': 6.0,\n",
              "  'rating': 3.75,\n",
              "  'title': 'Potato and Fennel Soup Hodge ',\n",
              "  'ingredients': ['1 fennel bulb (sometimes called anise), stalks discarded, bulb cut\\xa0into 1/2-inch dice, and feathery leaves reserved for garnish',\n",
              "   '1 onion, diced',\n",
              "   '2 tablespoons unsalted butter',\n",
              "   '2 medium russet (baking) potatoes',\n",
              "   '2 cups chicken broth',\n",
              "   '1 1/2 cups milk'],\n",
              "  'sodium': 165.0}]"
            ]
          },
          "metadata": {},
          "execution_count": 12
        }
      ]
    },
    {
      "cell_type": "code",
      "source": [
        "filtered_data =[\n",
        "    \"Recipe for \"+ x[\"title\"]+ \" | \"+ \" \".join(x[\"directions\"])\n",
        "    for x in recipe_data\n",
        "    if 'title' in x\n",
        "    and x['title'] is not None\n",
        "    and 'directions' in x\n",
        "    and x['directions'] is not None\n",
        "    ]"
      ],
      "metadata": {
        "id": "_-q6VHNYQ1vR"
      },
      "execution_count": 13,
      "outputs": []
    },
    {
      "cell_type": "code",
      "source": [
        "filtered_data[:3]"
      ],
      "metadata": {
        "colab": {
          "base_uri": "https://localhost:8080/"
        },
        "id": "3F44URWJRuNw",
        "outputId": "60db0c7d-aa5a-4252-a77f-f73eadf05dd6"
      },
      "execution_count": 14,
      "outputs": [
        {
          "output_type": "execute_result",
          "data": {
            "text/plain": [
              "['Recipe for Lentil, Apple, and Turkey Wrap  | 1. Place the stock, lentils, celery, carrot, thyme, and salt in a medium saucepan and bring to a boil. Reduce heat to low and simmer until the lentils are tender, about 30 minutes, depending on the lentils. (If they begin to dry out, add water as needed.) Remove and discard the thyme. Drain and transfer the mixture to a bowl; let cool. 2. Fold in the tomato, apple, lemon juice, and olive oil. Season with the pepper. 3. To assemble a wrap, place 1 lavash sheet on a clean work surface. Spread some of the lentil mixture on the end nearest you, leaving a 1-inch border. Top with several slices of turkey, then some of the lettuce. Roll up the lavash, slice crosswise, and serve. If using tortillas, spread the lentils in the center, top with the turkey and lettuce, and fold up the bottom, left side, and right side before rolling away from you.',\n",
              " 'Recipe for Boudin Blanc Terrine with Red Onion Confit  | Combine first 9 ingredients in heavy medium saucepan. Add 3 shallots. Bring to simmer. Remove from heat, cover and let stand 30 minutes. Chill overnight. Preheat oven to 325°F. Line 7-cup pâté or bread pan with plastic wrap. Melt butter in heavy small skillet over low heat. Add remaining 5 shallots. Cover and cook until very soft, stirring occasionally, about 15 minutes. Transfer to processor. Add pork, eggs, flour and Port and puree. Strain cream mixture, pressing on solids to extract as much liquid as possible. With processor running, add cream through feed tube and process just until combined with pork. Transfer to large bowl. Mix in currants. Spoon mixture into prepared pan. Cover with foil. Place pan in large pan. Add boiling water to larger pan to within 1/2 inch of top of terrine. Bake until terrine begins to shrink from sides of pan and knife inserted into center comes out clean, about 1 1/2 hours. Uncover and cool on rack. Chill until cold. (Can be made 3 days ahead. Cover and chill.) Line platter with lettuce. Arrange terrine atop. Sprinkle with pepper and parsley. Garnish with bay leaves. Spoon confit around sides. Serve with bread. Heat oil in heavy large skillet over medium-high heat. Add onions and sauté until crisp-tender, about 8 minutes. Add all remaining ingredients and stir until reduced to thick glaze, about 4 minutes. Season with salt and pepper. (Can be prepared 2 days ahead. Cover and chill.) Serve warm or at room temperature.',\n",
              " 'Recipe for Potato and Fennel Soup Hodge  | In a large heavy saucepan cook diced fennel and onion in butter over moderate heat, stirring, until softened, about 10 minutes. Peel and cube potatoes. Add potatoes and broth to fennel mixture and simmer, covered, until potatoes are very tender, about 20 minutes. In a blender or food processor purée mixture in batches until smooth and return to saucepan. Stir in milk and salt and pepper to taste and simmer soup, stirring occasionally, 10 minutes, or until heated through. Garnish soup with reserved fennel leaves.']"
            ]
          },
          "metadata": {},
          "execution_count": 14
        }
      ]
    },
    {
      "cell_type": "markdown",
      "source": [
        "## Tokenizing data"
      ],
      "metadata": {
        "id": "CMWJNtBCRvhH"
      }
    },
    {
      "cell_type": "code",
      "source": [
        "def pad_punctuation(s):\n",
        "  s = re.sub(f\"([{string.punctuation}])\", r' \\1', s)\n",
        "  s = re.sub(\" +\", \" \", s)\n",
        "  return s"
      ],
      "metadata": {
        "id": "dDkPRG8AUsaG"
      },
      "execution_count": 15,
      "outputs": []
    },
    {
      "cell_type": "code",
      "source": [
        "text_data = [pad_punctuation(x) for x in filtered_data]"
      ],
      "metadata": {
        "id": "1iuFkREnVFt9"
      },
      "execution_count": 16,
      "outputs": []
    },
    {
      "cell_type": "code",
      "source": [
        "text_data[:3]"
      ],
      "metadata": {
        "colab": {
          "base_uri": "https://localhost:8080/"
        },
        "id": "wE02i5IuVsh1",
        "outputId": "2cddfc61-3056-4fc9-e175-c281126f5639"
      },
      "execution_count": 17,
      "outputs": [
        {
          "output_type": "execute_result",
          "data": {
            "text/plain": [
              "['Recipe for Lentil , Apple , and Turkey Wrap | 1 . Place the stock , lentils , celery , carrot , thyme , and salt in a medium saucepan and bring to a boil . Reduce heat to low and simmer until the lentils are tender , about 30 minutes , depending on the lentils . (If they begin to dry out , add water as needed . ) Remove and discard the thyme . Drain and transfer the mixture to a bowl ; let cool . 2 . Fold in the tomato , apple , lemon juice , and olive oil . Season with the pepper . 3 . To assemble a wrap , place 1 lavash sheet on a clean work surface . Spread some of the lentil mixture on the end nearest you , leaving a 1 -inch border . Top with several slices of turkey , then some of the lettuce . Roll up the lavash , slice crosswise , and serve . If using tortillas , spread the lentils in the center , top with the turkey and lettuce , and fold up the bottom , left side , and right side before rolling away from you .',\n",
              " 'Recipe for Boudin Blanc Terrine with Red Onion Confit | Combine first 9 ingredients in heavy medium saucepan . Add 3 shallots . Bring to simmer . Remove from heat , cover and let stand 30 minutes . Chill overnight . Preheat oven to 325°F . Line 7 -cup pâté or bread pan with plastic wrap . Melt butter in heavy small skillet over low heat . Add remaining 5 shallots . Cover and cook until very soft , stirring occasionally , about 15 minutes . Transfer to processor . Add pork , eggs , flour and Port and puree . Strain cream mixture , pressing on solids to extract as much liquid as possible . With processor running , add cream through feed tube and process just until combined with pork . Transfer to large bowl . Mix in currants . Spoon mixture into prepared pan . Cover with foil . Place pan in large pan . Add boiling water to larger pan to within 1 /2 inch of top of terrine . Bake until terrine begins to shrink from sides of pan and knife inserted into center comes out clean , about 1 1 /2 hours . Uncover and cool on rack . Chill until cold . (Can be made 3 days ahead . Cover and chill . ) Line platter with lettuce . Arrange terrine atop . Sprinkle with pepper and parsley . Garnish with bay leaves . Spoon confit around sides . Serve with bread . Heat oil in heavy large skillet over medium -high heat . Add onions and sauté until crisp -tender , about 8 minutes . Add all remaining ingredients and stir until reduced to thick glaze , about 4 minutes . Season with salt and pepper . (Can be prepared 2 days ahead . Cover and chill . ) Serve warm or at room temperature .',\n",
              " 'Recipe for Potato and Fennel Soup Hodge | In a large heavy saucepan cook diced fennel and onion in butter over moderate heat , stirring , until softened , about 10 minutes . Peel and cube potatoes . Add potatoes and broth to fennel mixture and simmer , covered , until potatoes are very tender , about 20 minutes . In a blender or food processor purée mixture in batches until smooth and return to saucepan . Stir in milk and salt and pepper to taste and simmer soup , stirring occasionally , 10 minutes , or until heated through . Garnish soup with reserved fennel leaves .']"
            ]
          },
          "metadata": {},
          "execution_count": 17
        }
      ]
    },
    {
      "cell_type": "code",
      "source": [
        "text_ds = tf.data.Dataset.from_tensor_slices(text_data).batch(32).shuffle(1000)"
      ],
      "metadata": {
        "id": "e-uPhd1LVY-v"
      },
      "execution_count": 18,
      "outputs": []
    },
    {
      "cell_type": "code",
      "source": [
        "text_ds"
      ],
      "metadata": {
        "colab": {
          "base_uri": "https://localhost:8080/"
        },
        "id": "hS2cXT2BVl6K",
        "outputId": "a4f91a2f-4daa-4aad-ae42-b518dacacd1f"
      },
      "execution_count": 19,
      "outputs": [
        {
          "output_type": "execute_result",
          "data": {
            "text/plain": [
              "<_ShuffleDataset element_spec=TensorSpec(shape=(None,), dtype=tf.string, name=None)>"
            ]
          },
          "metadata": {},
          "execution_count": 19
        }
      ]
    },
    {
      "cell_type": "code",
      "source": [
        "len(text_data)"
      ],
      "metadata": {
        "colab": {
          "base_uri": "https://localhost:8080/"
        },
        "id": "0H3GQmVtXKgc",
        "outputId": "4d2b6a74-985e-4611-9856-ce2a990e8385"
      },
      "execution_count": 20,
      "outputs": [
        {
          "output_type": "execute_result",
          "data": {
            "text/plain": [
              "20111"
            ]
          },
          "metadata": {},
          "execution_count": 20
        }
      ]
    },
    {
      "cell_type": "code",
      "source": [
        "sum =0\n",
        "for i in range(len(text_data)):\n",
        "  words = text_data[i].split()\n",
        "  sum += len(words)\n",
        "\n",
        "print(f\"Average words per paragraph: {sum/len(text_data)}\")"
      ],
      "metadata": {
        "colab": {
          "base_uri": "https://localhost:8080/"
        },
        "id": "tgR1Eb4KW6hu",
        "outputId": "aca66bba-fd24-42de-ff8a-b3cd0875475e"
      },
      "execution_count": 21,
      "outputs": [
        {
          "output_type": "stream",
          "name": "stdout",
          "text": [
            "Average words per paragraph: 185.03664661130725\n"
          ]
        }
      ]
    },
    {
      "cell_type": "code",
      "source": [
        "vectorize_layer = layers.TextVectorization(\n",
        "    standardize= \"lower\", # not stripping punctuations\n",
        "    max_tokens = 10000,\n",
        "    output_mode = \"int\",\n",
        "    output_sequence_length = 200+1,\n",
        ")"
      ],
      "metadata": {
        "id": "VWFb0-qxVqp1"
      },
      "execution_count": 22,
      "outputs": []
    },
    {
      "cell_type": "code",
      "source": [
        "vectorize_layer.adapt(text_ds)\n",
        "vocab = vectorize_layer.get_vocabulary()"
      ],
      "metadata": {
        "id": "nJ9OsRvUXqhq"
      },
      "execution_count": 23,
      "outputs": []
    },
    {
      "cell_type": "code",
      "source": [
        "vocab[:10]"
      ],
      "metadata": {
        "colab": {
          "base_uri": "https://localhost:8080/"
        },
        "id": "rJfUWsAoXzu-",
        "outputId": "3f82377a-f2b9-4418-d8d5-8cb6c0a4ef64"
      },
      "execution_count": 24,
      "outputs": [
        {
          "output_type": "execute_result",
          "data": {
            "text/plain": [
              "['', '[UNK]', '.', ',', 'and', 'to', 'in', 'the', 'with', 'a']"
            ]
          },
          "metadata": {},
          "execution_count": 24
        }
      ]
    },
    {
      "cell_type": "code",
      "source": [
        "vocab[-10:]"
      ],
      "metadata": {
        "colab": {
          "base_uri": "https://localhost:8080/"
        },
        "id": "6JtXTnySX1gS",
        "outputId": "e5eeb2a9-eda5-491d-d3eb-3a066c80a5a4"
      },
      "execution_count": 25,
      "outputs": [
        {
          "output_type": "execute_result",
          "data": {
            "text/plain": [
              "['(rectangles',\n",
              " '(recrystallize',\n",
              " '(ravioli',\n",
              " '(raspberries',\n",
              " '(raita',\n",
              " '(quinoa',\n",
              " '(quince',\n",
              " '(pâté',\n",
              " '(purée',\n",
              " '(prosciutto']"
            ]
          },
          "metadata": {},
          "execution_count": 25
        }
      ]
    },
    {
      "cell_type": "code",
      "source": [
        "vocab[4:14]"
      ],
      "metadata": {
        "colab": {
          "base_uri": "https://localhost:8080/"
        },
        "id": "rWpC64I0X5jg",
        "outputId": "5cd70a8b-2b55-47c5-e791-3dcfa083364b"
      },
      "execution_count": 26,
      "outputs": [
        {
          "output_type": "execute_result",
          "data": {
            "text/plain": [
              "['and', 'to', 'in', 'the', 'with', 'a', 'until', '1', 'minutes', 'of']"
            ]
          },
          "metadata": {},
          "execution_count": 26
        }
      ]
    },
    {
      "cell_type": "code",
      "source": [
        "vectorize_layer((text_data[3]))"
      ],
      "metadata": {
        "colab": {
          "base_uri": "https://localhost:8080/"
        },
        "id": "0hbFYPRPYVA3",
        "outputId": "71c6adb7-7578-4661-ef56-69e8a8122560"
      },
      "execution_count": 27,
      "outputs": [
        {
          "output_type": "execute_result",
          "data": {
            "text/plain": [
              "<tf.Tensor: shape=(201,), dtype=int64, numpy=\n",
              "array([  24,   14, 3697, 4229,    6,  267,  252,   51,   25,   15,   32,\n",
              "          6,   74,   27,   48,   18,   28,  139,   15,    2,   16,  113,\n",
              "         20,  127,   10,  865,    4,  471,    5,   89,    3,   17,   63,\n",
              "         12,    2,   16,  249,    4, 1462,  345,    2,   67,   10,  287,\n",
              "          5,   36,   72,   52,    3,   17,   36,   12,    2,   16,  180,\n",
              "          8,  100,   20,   80,    5,   67,    2,   85,  208,    8,   22,\n",
              "          4,   31,    2,   16,  208,    5,   48,  474,  267,   29,    2,\n",
              "        150,   15,    5,  181,    3,   45,    3,    4,   68,   10,  208,\n",
              "         33,  183,   98,    3,   17,  340,   12,    2,   84,  305,  446,\n",
              "        383,    3,   35,  208,    5,  216,    4,  948,    8,  165,    5,\n",
              "        191,  149,    2,  111,  526,    3,   21,  408,  648,    3,    4,\n",
              "        254,  174,   23,   51,    6,   48,    2,  544,   15,    5,  153,\n",
              "          4,   67,   10,   51,   33,  287,    4,  428,    3,   17,  114,\n",
              "         12,    2,   58,    5,  128,    8,   22,    4,   31,    2,   60,\n",
              "         11,  208,  993,   26,   64,   13,   63,  273,    2,  104,   51,\n",
              "         18,    4,  271,  208,    3,   85,    8,   41,   11,  138,  648,\n",
              "          3,    4,   66,    8,  149,  593,  193,    2,    0,    0,    0,\n",
              "          0,    0,    0,    0,    0,    0,    0,    0,    0,    0,    0,\n",
              "          0,    0,    0])>"
            ]
          },
          "metadata": {},
          "execution_count": 27
        }
      ]
    },
    {
      "cell_type": "code",
      "source": [
        "text_data[3]"
      ],
      "metadata": {
        "colab": {
          "base_uri": "https://localhost:8080/",
          "height": 140
        },
        "id": "Za_XAKDcaBWz",
        "outputId": "9ce52135-73c0-4b95-881e-522fe35f1a89"
      },
      "execution_count": 28,
      "outputs": [
        {
          "output_type": "execute_result",
          "data": {
            "text/plain": [
              "'Recipe for Mahi -Mahi in Tomato Olive Sauce | Heat oil in heavy large skillet over medium -high heat . Add onion ; sauté until translucent and beginning to brown , about 4 minutes . Add wine and anchovy paste . Boil until reduced to 3 /4 cup , about 3 minutes . Add tomatoes with juice ; bring to boil . Sprinkle fish with salt and pepper . Add fish to skillet atop tomato mixture . Reduce heat to low , cover , and simmer until fish is cooked through , about 9 minutes . Using slotted metal spatula , transfer fish to plate and tent with foil to keep warm . Mix olives , 2 teaspoons oregano , and orange peel into sauce in skillet . Increase heat to high and boil until sauce is reduced and thickened , about 6 minutes . Season to taste with salt and pepper . Place 1 fish fillet on each of 4 plates . Pour sauce over and around fish , sprinkle with remaining 1 teaspoon oregano , and serve with warm toasted bread .'"
            ],
            "application/vnd.google.colaboratory.intrinsic+json": {
              "type": "string"
            }
          },
          "metadata": {},
          "execution_count": 28
        }
      ]
    },
    {
      "cell_type": "markdown",
      "source": [
        "## Creating Training Set"
      ],
      "metadata": {
        "id": "GYH4NM9Waz5V"
      }
    },
    {
      "cell_type": "code",
      "source": [
        "def prepare_inputs(text):\n",
        "  text = tf.expand_dims(text, axis=-1)\n",
        "  tokenized_sentences = vectorize_layer(text)\n",
        "  x = tokenized_sentences[:,:-1]\n",
        "  y = tokenized_sentences[:,1:]\n",
        "\n",
        "  return x,y"
      ],
      "metadata": {
        "id": "miZrhILlY9V0"
      },
      "execution_count": 29,
      "outputs": []
    },
    {
      "cell_type": "code",
      "source": [
        "train_ds = text_ds.map(prepare_inputs)"
      ],
      "metadata": {
        "id": "ns3M8LEXaej_"
      },
      "execution_count": 30,
      "outputs": []
    },
    {
      "cell_type": "code",
      "source": [
        "inputs = layers.Input(shape=(None, ), dtype=\"int32\")\n",
        "x = layers.Embedding(10000, 100)(inputs)\n",
        "x = layers.LSTM(128, return_sequences=True)(x)\n",
        "outputs = layers.Dense(10000, activation=\"softmax\")(x)\n",
        "\n",
        "lstm = models.Model(inputs, outputs)\n",
        "lstm.summary()"
      ],
      "metadata": {
        "colab": {
          "base_uri": "https://localhost:8080/"
        },
        "id": "PDBGaAhfar6I",
        "outputId": "f4bad678-2de9-4ead-cf0b-00a49bac25ad"
      },
      "execution_count": 31,
      "outputs": [
        {
          "output_type": "stream",
          "name": "stdout",
          "text": [
            "Model: \"model\"\n",
            "_________________________________________________________________\n",
            " Layer (type)                Output Shape              Param #   \n",
            "=================================================================\n",
            " input_1 (InputLayer)        [(None, None)]            0         \n",
            "                                                                 \n",
            " embedding (Embedding)       (None, None, 100)         1000000   \n",
            "                                                                 \n",
            " lstm (LSTM)                 (None, None, 128)         117248    \n",
            "                                                                 \n",
            " dense (Dense)               (None, None, 10000)       1290000   \n",
            "                                                                 \n",
            "=================================================================\n",
            "Total params: 2407248 (9.18 MB)\n",
            "Trainable params: 2407248 (9.18 MB)\n",
            "Non-trainable params: 0 (0.00 Byte)\n",
            "_________________________________________________________________\n"
          ]
        }
      ]
    },
    {
      "cell_type": "code",
      "source": [
        "loss_fn = losses.SparseCategoricalCrossentropy()\n",
        "lstm.compile(\"adam\", loss_fn)"
      ],
      "metadata": {
        "id": "9UXIyDitbiXV"
      },
      "execution_count": 32,
      "outputs": []
    },
    {
      "cell_type": "code",
      "source": [
        "class TextGenerator(callbacks.Callback):\n",
        "    def __init__(self, index_to_word, top_k=10):\n",
        "        self.index_to_word = index_to_word\n",
        "        self.word_to_index = {\n",
        "            word: index for index, word in enumerate(index_to_word)\n",
        "        }  # <1>\n",
        "\n",
        "    def sample_from(self, probs, temperature):  # <2>\n",
        "        probs = probs ** (1 / temperature)\n",
        "        probs = probs / np.sum(probs)\n",
        "        return np.random.choice(len(probs), p=probs), probs\n",
        "\n",
        "    def generate(self, start_prompt, max_tokens, temperature):\n",
        "        start_tokens = [\n",
        "            self.word_to_index.get(x, 1) for x in start_prompt.split()\n",
        "        ]  # <3>\n",
        "        sample_token = None\n",
        "        info = []\n",
        "        while len(start_tokens) < max_tokens and sample_token != 0:  # <4>\n",
        "            x = np.array([start_tokens])\n",
        "            y = self.model.predict(x, verbose=0)  # <5>\n",
        "            sample_token, probs = self.sample_from(y[0][-1], temperature)  # <6>\n",
        "            info.append({\"prompt\": start_prompt, \"word_probs\": probs})\n",
        "            start_tokens.append(sample_token)  # <7>\n",
        "            start_prompt = start_prompt + \" \" + self.index_to_word[sample_token]\n",
        "        print(f\"\\ngenerated text:\\n{start_prompt}\\n\")\n",
        "        return info\n",
        "\n",
        "    def on_epoch_end(self, epoch, logs=None):\n",
        "        self.generate(\"recipe for\", max_tokens=100, temperature=1.0)"
      ],
      "metadata": {
        "id": "jQzteO2dfkiz"
      },
      "execution_count": 33,
      "outputs": []
    },
    {
      "cell_type": "code",
      "source": [
        "model_checkpoint_callback = callbacks.ModelCheckpoint(\n",
        "    filepath=\"./checkpoint/checkpoint.ckpt\",\n",
        "    save_weights_only=True,\n",
        "    save_freq=\"epoch\",\n",
        "    verbose=0,\n",
        ")\n",
        "\n",
        "tensorboard_callback = callbacks.TensorBoard(log_dir=\"./logs\")\n",
        "\n",
        "text_generator = TextGenerator(vocab)"
      ],
      "metadata": {
        "id": "px426tTgfq40"
      },
      "execution_count": 34,
      "outputs": []
    },
    {
      "cell_type": "code",
      "source": [
        "lstm.fit(\n",
        "    train_ds,\n",
        "    epochs=25,\n",
        "    callbacks=[model_checkpoint_callback, tensorboard_callback, text_generator],\n",
        ")"
      ],
      "metadata": {
        "colab": {
          "base_uri": "https://localhost:8080/"
        },
        "id": "kQ3iNPACeNbW",
        "outputId": "83a4a005-de35-4f8e-d6e0-12b959d04090"
      },
      "execution_count": 35,
      "outputs": [
        {
          "output_type": "stream",
          "name": "stdout",
          "text": [
            "Epoch 1/25\n",
            "628/629 [============================>.] - ETA: 0s - loss: 4.4219\n",
            "generated text:\n",
            "recipe for stir peanut parchment goose for sherry , salt milk , stirring oven with eggs over sauce together 1 a oven until use melting \n",
            "\n",
            "629/629 [==============================] - 61s 92ms/step - loss: 4.4212\n",
            "Epoch 2/25\n",
            "629/629 [==============================] - ETA: 0s - loss: 3.0608\n",
            "generated text:\n",
            "recipe for nectarine cherries with grilled pearl toasts | whisk oil together 2 tbsp , lightly , , wine , 2 sauce , and sugar in the third of water . cut cake in them vinaigrette , cut ! the egg [UNK] with emulsify tops ) for and refrigerate . preheat the gelato . tossing , about 3 minutes . press the canned , slice bag with the sheet and cornstarch soup , until strainer cook in a bowl . in strainer over whisk in small bowls . preheat oven to lamb . prepare drippings apples with sliced tuna panna\n",
            "\n",
            "629/629 [==============================] - 31s 50ms/step - loss: 3.0608\n",
            "Epoch 3/25\n",
            "629/629 [==============================] - ETA: 0s - loss: 2.4994\n",
            "generated text:\n",
            "recipe for white tea chips | cut sorbet with a the jars five -ounce have coarse the oil forms , turning occasionally , until vegetables are soft , stir to detach , and cover and purée vigorously over high heat , about 5 minutes . cover ; add juice , avocado , and 1 /4 cup water ingredients to a the custard mixture . add cherries , carrot and remaining -cheese cooking liquid to loosen mixture . garlic , broccoli and sauté broil until crisp -tender , and transfer to soften to 6 -20 minutes . add lemon juice and\n",
            "\n",
            "629/629 [==============================] - 32s 50ms/step - loss: 2.4994\n",
            "Epoch 4/25\n",
            "628/629 [============================>.] - ETA: 0s - loss: 2.2412\n",
            "generated text:\n",
            "recipe for spicy relish verde | cut dough all in dough lengthwise and like all bags . turn dough gently are just off as push enough dough into a little containers . fold into other fingers . brush a steamer with loaf pan lined with plastic wrap , then arrange dried , arugula , if necessary , and cut each with 1 tablespoon butter , squeeze ends leaves lengthwise through a -bodied becoming fettucine . thinly slice the pea of remaining 1 /2 cup long flavours , its end jelly and form it into julienne square . ensure husks have\n",
            "\n",
            "629/629 [==============================] - 31s 50ms/step - loss: 2.2415\n",
            "Epoch 5/25\n",
            "628/629 [============================>.] - ETA: 0s - loss: 2.0969\n",
            "generated text:\n",
            "recipe for potato apple and pistachios | combine peanut butter , and sugar in large bowl . blend , until mixture forms . sprinkle with salt and pepper . . cover and chill 10 hour . cover potatoes with foil and preheat to 325°f . place 1 x 4 . line rimmed baking sheet with 9 -inch -diameter springform pan with pine cauliflower with olives , roll with foil , using electric mixer until fluffy . add sliced cream ; puree until dry . place in small bowl . using ramekins arrange flour in upper third dish in heavy baking\n",
            "\n",
            "629/629 [==============================] - 32s 50ms/step - loss: 2.0966\n",
            "Epoch 6/25\n",
            "628/629 [============================>.] - ETA: 0s - loss: 1.9987\n",
            "generated text:\n",
            "recipe for grilled turkey medallions with garlic pistou | cut fig lengthwise (including york diagonally in 1 1 /2 -inch -thick slices . toss mayonnaise and garlic with 1 /4 cups -cooking water . bring to a boil and vinegar in pan ; \n",
            "\n",
            "629/629 [==============================] - 28s 45ms/step - loss: 1.9988\n",
            "Epoch 7/25\n",
            "628/629 [============================>.] - ETA: 0s - loss: 1.9248\n",
            "generated text:\n",
            "recipe for seared eggs with minted relish | prepare grill . if ready with a knife snap off the liquid from stems and cut the flesh into with a 1 /4 \" ketchup . heat the oil in a large pot over medium heat . add the chicken of the broth and bring to a boil . bring to a boil slowly add broth to pot , bring to a boil . bring to a boil for the cooking boil and mash with a fork . gradually whisk in the remaining 1 /2 teaspoon of salt and simmer for low\n",
            "\n",
            "629/629 [==============================] - 32s 51ms/step - loss: 1.9252\n",
            "Epoch 8/25\n",
            "628/629 [============================>.] - ETA: 0s - loss: 1.8685\n",
            "generated text:\n",
            "recipe for asian french toast shanks | in stock kettle , heat oil with 5 tablespoons oil in skillet over moderately high heat until foam subsides (about 1 /2 cups peppercorns . bring broth to a boil and cook for 10 minutes and fluff rice with a small masher or kettle . add water and potatoes to bowl ; cook , stirring , until secure is very tender and liquid is softened , about 3 minutes . add potatoes to 4 ingredients in a bowl . chill , covered and refrigerated . preheat oven to 375°f . sauce hardens roasting\n",
            "\n",
            "629/629 [==============================] - 35s 56ms/step - loss: 1.8683\n",
            "Epoch 9/25\n",
            "629/629 [==============================] - ETA: 0s - loss: 1.8229\n",
            "generated text:\n",
            "recipe for arugula and sun -dried vegetable -lime pita | mix all ingredients in small bowl . sprinkle with remaining butter or pepper ; arrange in 2 layers . heat 2 tablespoons butter in large nonstick next skillet over medium heat . add butter and sauté until rhubarb is cooked through , about 10 minutes . attach just cooked through , and cool slightly . mix in cilantro and next sage in warm heavy large saucepan . add onion and pernod ; (can be prepared 6 hours ahead . cover ; \n",
            "\n",
            "629/629 [==============================] - 32s 51ms/step - loss: 1.8229\n",
            "Epoch 10/25\n",
            "628/629 [============================>.] - ETA: 0s - loss: 1.7846\n",
            "generated text:\n",
            "recipe for oatmeal buttermilk casserole | spread first 3 ingredients in blender . press 30 inches half through bottom pie bowl to compact . using small offset spatula , orange peel or pan , then roll out . butter registers out fat cavity , forming even crust . wash corn in sieve and refrigerate 10 minutes . let drain just well in bowl . transfer pork to baking sheet ; let stand 15 minutes . let it stand 5 minutes , 12–24 to lukewarm . drain in small bowl ; chop 6 amount . pie from freezer until poblanos are\n",
            "\n",
            "629/629 [==============================] - 33s 52ms/step - loss: 1.7850\n",
            "Epoch 11/25\n",
            "628/629 [============================>.] - ETA: 0s - loss: 1.7529\n",
            "generated text:\n",
            "recipe for mole | \n",
            "\n",
            "629/629 [==============================] - 26s 41ms/step - loss: 1.7528\n",
            "Epoch 12/25\n",
            "628/629 [============================>.] - ETA: 0s - loss: 1.7249\n",
            "generated text:\n",
            "recipe for crunchy potato salad | bring rice all of water to measure 4 1 /2 cups apple beans . combine cucumber , 1 tablespoon at a time , half and prune , being careful not to medium stockpot ) . add onion and 3 tablespoons liquid . bring to stand , reduce heat to medium -low and simmer uncovered over medium heat until liquid is rendered and crisp until tender , about 5 minutes . whisk in vegetables , if desired . season with salt and pepper . \n",
            "\n",
            "629/629 [==============================] - 32s 50ms/step - loss: 1.7249\n",
            "Epoch 13/25\n",
            "628/629 [============================>.] - ETA: 0s - loss: 1.7004\n",
            "generated text:\n",
            "recipe for portuguese pecan yogurt ice cream | whisk milk , sugar , and 1 /2 teaspoon sugar in a shallow bowl mixture over medium heat , stirring with a fork until dry . add cranberries and salt , beating , then (it 's deep but not be quite the loose ) . dip may be prepared up to this point 3 days in advance and 1 day in advance . keep chilled . ) dissolve apricots with 1 /4 cup water in a large bowl . let cool just until slightly softened , about 2 minutes . add sugar\n",
            "\n",
            "629/629 [==============================] - 33s 53ms/step - loss: 1.7006\n",
            "Epoch 14/25\n",
            "628/629 [============================>.] - ETA: 0s - loss: 1.6787\n",
            "generated text:\n",
            "recipe for ricotta gratin , applejack and fries | peach peel in 4 ring , then drizzle a pinch of pistachios over a serving bowl with a splash or other demitasse cups . whisk eggs , eggs , and remaining ingredients in a food processor until coated crust forms . spread meringue on baking sheet to fit remaining 1 /4 cup flour mixture and spread all sides evenly near top , and top with 1 mascarpone crumb sauce . melt remaining 1 tbsp . butter in a small bowl with a fork , swirling bacon several times add to coat\n",
            "\n",
            "629/629 [==============================] - 32s 50ms/step - loss: 1.6787\n",
            "Epoch 15/25\n",
            "628/629 [============================>.] - ETA: 0s - loss: 1.6592\n",
            "generated text:\n",
            "recipe for ginger | preheat oven to 325°f . in a small bowl stir together all vinegars and dry ingredients with salt , sugar , and a pinch salt (or 4 ounces finely 10 to a shallow bowl after another pie sides ) and dust scallops with butter , then shortening ; season with salt . heat oil in a 12 -inch pie dish in a baking pan with an third electric mixer , egg whites and vinegars and stir in butter until they hold slowly to extract as much liquid as possible , then fold in scallion mixture .\n",
            "\n",
            "629/629 [==============================] - 31s 50ms/step - loss: 1.6593\n",
            "Epoch 16/25\n",
            "628/629 [============================>.] - ETA: 0s - loss: 1.6416\n",
            "generated text:\n",
            "recipe for black yellow pepper soup | preheat oven to 375°f . cut kernels off cob and cut off peel . if using dried beans , blend together in a bowl . heat : cover and cook onions until vegetables are tender , 8–10 minutes . add red -pepper flakes and simmer until sauce coats pasta is very soft , adding more ice water by 1 /4 cupfuls if too white wide , about 5 minutes . transfer fish stock to a medium -mesh sieve and add oysters with juice and salt to taste until smooth . return to pot\n",
            "\n",
            "629/629 [==============================] - 33s 52ms/step - loss: 1.6415\n",
            "Epoch 17/25\n",
            "629/629 [==============================] - ETA: 0s - loss: 1.6254\n",
            "generated text:\n",
            "recipe for beet -pepper vinaigrette | pat fillets dry and season with salt and pepper . in a small bowl , heat remaining 1 tablespoon vegetable oil in a heavy skillet over medium heat . add garlic , cumin , and potatoes and cook , stirring , until fragrant , 2 to 8 minutes . transfer pears on baking water and rinse under cold water . straddle pan across bottom or skillet . cool mixer , tossing occasionally . add nuts , 1 /2 cup corn , and sage to a shallow dish . pour egg mixture into bottom of\n",
            "\n",
            "629/629 [==============================] - 31s 50ms/step - loss: 1.6254\n",
            "Epoch 18/25\n",
            "629/629 [==============================] - ETA: 0s - loss: 1.6104\n",
            "generated text:\n",
            "recipe for baked bananas upside | preheat oven to 450°f . grease a 9 -inch metal baking pan . set parchment paper on racks . combine all ingredients in a food processor and pulse until mixture resembles coarse paste . combine cream , sugar , and 1 /4 cup water in a bowl . arrange the bacon in a small bowl and cover . chill at least 15 minutes and up the fists with a preheat rack . remove the top and cut side of small crêpes from wrap and put them in a 6 - or 8 -cup or\n",
            "\n",
            "629/629 [==============================] - 34s 54ms/step - loss: 1.6104\n",
            "Epoch 19/25\n",
            "628/629 [============================>.] - ETA: 0s - loss: 1.5961\n",
            "generated text:\n",
            "recipe for garam blanc | put oven racks in upper and lower thirds of oven and place in a water , leaving an upright brush . preheat oven to 425°f . combine durum cocoa powder , salt , and 1 1 /4 teaspoons peppercorns and cream in an electric mixer . beat to well in a bowl ; beat in sambuca . pour mixture into a large bowl and press in warm bottom third of shallow 9x13 layer . combine remaining 3 tablespoons maple syrup in a bowl , then whisk in almonds , confectioners ' sugar , agave syrup\n",
            "\n",
            "629/629 [==============================] - 33s 52ms/step - loss: 1.5965\n",
            "Epoch 20/25\n",
            "629/629 [==============================] - ETA: 0s - loss: 1.5839\n",
            "generated text:\n",
            "recipe for burgers with lemon -pine cheese pastries | preheat oven to 325°f . combine 2 tablespoons [UNK] sliced celery and celery into 15x10x1 -inch metal very thin knife . whisk oil , mustard , orange peel , salt , and pepper in mini pepper . keep warm in 2 - to 3 -quart shallow baking pan and place in oven ; bake until all brussels sprouts are almost tender , about 30 minutes . transfer to bowl . sprinkle with minced chiles . mix in remaining 1 cup water . serve gently . \n",
            "\n",
            "629/629 [==============================] - 32s 52ms/step - loss: 1.5839\n",
            "Epoch 21/25\n",
            "629/629 [==============================] - ETA: 0s - loss: 1.5717\n",
            "generated text:\n",
            "recipe for tacos of carnitas | cook beans in pot until just tender , 8 to 40 minutes . stir in fennel seeds and cumin . add butter ; cook 1 minute 1 minute . strain bag and return to dressing ; toss to blend . cover and let stand 30 seconds at least 12 hours or overnight . (sauce chutney can be prepared 1 day ahead . cover and chill . ) \n",
            "\n",
            "629/629 [==============================] - 30s 47ms/step - loss: 1.5717\n",
            "Epoch 22/25\n",
            "628/629 [============================>.] - ETA: 0s - loss: 1.5601\n",
            "generated text:\n",
            "recipe for passion -fruit ice pops | stir together ketchup , hot water , sugar , and 1 cup sugar , then sugar and sterilize over a quart water (do not boil ) , stirring occasionally , until mixture is dissolved . add all cranberries and cook , uncovered , stirring until sugar is dissolved , about 10 minutes , then boil , stirring occasionally , until whey and remaining solids in bottom of jar . put apple chocolate into a small saucepan , and set remaining over simmering water , then steep noodles for 15 minutes . (if making\n",
            "\n",
            "629/629 [==============================] - 32s 50ms/step - loss: 1.5601\n",
            "Epoch 23/25\n",
            "629/629 [==============================] - ETA: 0s - loss: 1.5494\n",
            "generated text:\n",
            "recipe for veal milk risotto with tropical fruit | combine spareribs and next 3 tablespoons chopped fresh basil and mint in processor . finely chop onion . combine garlic paste , lemon peel , salt , cayenne , and ground black pepper in heavy medium saucepan . cook over medium heat until gently form into large pots and cook over medium -high heat until slightly reduced spinach , stirring often , about 5 minutes . set aside . whisk flour and remaining 1 1 /3 cups water in small bowl . heat heavy large skillet over medium -high heat .\n",
            "\n",
            "629/629 [==============================] - 32s 50ms/step - loss: 1.5494\n",
            "Epoch 24/25\n",
            "629/629 [==============================] - ETA: 0s - loss: 1.5390\n",
            "generated text:\n",
            "recipe for cranberry and chile soup with ginger and ginger | preheat oven to 325° f . remove seeds from water and squeeze out stalks . remove seeds from membranes , letting excess 1 /2 cup pulp . pat dry with paper towels and wrap in single layer . combine garlic paste , vinegar , almonds , lemon juice , and chard in a large fine 3 -quart heavy saucepan and bring to a boil over medium -high heat . cook orzo in medium saucepan of boiling salted water until just tender , about 15 minutes longer . remove from\n",
            "\n",
            "629/629 [==============================] - 32s 52ms/step - loss: 1.5390\n",
            "Epoch 25/25\n",
            "628/629 [============================>.] - ETA: 0s - loss: 1.5287\n",
            "generated text:\n",
            "recipe for chipotle -pickled cabbage | 1 . preheat the oven for 1 . 2 . close the grill , then brush the onion mixture over both sides with the garlic . grill the cooked to 10 minutes at high power . remove tuna from the oven . slice the tortillas into long side . the cherry top loaf with the parmesan and serve , garnished with a basil sprigs . \n",
            "\n",
            "629/629 [==============================] - 30s 47ms/step - loss: 1.5293\n"
          ]
        },
        {
          "output_type": "execute_result",
          "data": {
            "text/plain": [
              "<keras.src.callbacks.History at 0x7d44f8a17760>"
            ]
          },
          "metadata": {},
          "execution_count": 35
        }
      ]
    },
    {
      "cell_type": "markdown",
      "source": [
        "## Generating Text"
      ],
      "metadata": {
        "id": "CNZInCiCeQpR"
      }
    },
    {
      "cell_type": "code",
      "source": [
        "def print_probs(info, vocab, top_k=5):\n",
        "    for i in info:\n",
        "        print(f\"\\nPROMPT: {i['prompt']}\")\n",
        "        word_probs = i[\"word_probs\"]\n",
        "        p_sorted = np.sort(word_probs)[::-1][:top_k]\n",
        "        i_sorted = np.argsort(word_probs)[::-1][:top_k]\n",
        "        for p, i in zip(p_sorted, i_sorted):\n",
        "            print(f\"{vocab[i]}:   \\t{np.round(100*p,2)}%\")\n",
        "        print(\"--------\\n\")"
      ],
      "metadata": {
        "id": "bBV24MvYjlRf"
      },
      "execution_count": 36,
      "outputs": []
    },
    {
      "cell_type": "code",
      "source": [
        "info = text_generator.generate(\n",
        "    \"recipe for roasted vegetables | chop 1 /\", max_tokens=10, temperature=1.0\n",
        ")"
      ],
      "metadata": {
        "colab": {
          "base_uri": "https://localhost:8080/"
        },
        "id": "NSpjvPr3jqBX",
        "outputId": "3a871927-9b45-4317-b626-1becaf068e1e"
      },
      "execution_count": 37,
      "outputs": [
        {
          "output_type": "stream",
          "name": "stdout",
          "text": [
            "\n",
            "generated text:\n",
            "recipe for roasted vegetables | chop 1 / 2 inches\n",
            "\n"
          ]
        }
      ]
    },
    {
      "cell_type": "code",
      "source": [
        "print_probs(info, vocab)"
      ],
      "metadata": {
        "colab": {
          "base_uri": "https://localhost:8080/"
        },
        "id": "pOEyLOm7jrn5",
        "outputId": "323a4ab7-114a-40e7-b388-ff85d1fc5bcd"
      },
      "execution_count": 38,
      "outputs": [
        {
          "output_type": "stream",
          "name": "stdout",
          "text": [
            "\n",
            "PROMPT: recipe for roasted vegetables | chop 1 /\n",
            "3:   \t21.97%\n",
            "2:   \t16.14%\n",
            "1:   \t11.42%\n",
            "5:   \t5.89%\n",
            "half:   \t4.8%\n",
            "--------\n",
            "\n",
            "\n",
            "PROMPT: recipe for roasted vegetables | chop 1 / 2\n",
            "tablespoons:   \t8.99%\n",
            "1:   \t6.74%\n",
            "cups:   \t5.26%\n",
            "garlic:   \t4.47%\n",
            "at:   \t4.4%\n",
            "--------\n",
            "\n"
          ]
        }
      ]
    },
    {
      "cell_type": "code",
      "source": [
        "info = text_generator.generate(\n",
        "    \"recipe for roasted vegetables | chop 1 /\", max_tokens=10, temperature=0.2\n",
        ")"
      ],
      "metadata": {
        "colab": {
          "base_uri": "https://localhost:8080/"
        },
        "id": "QCZPQaoJjuCQ",
        "outputId": "f1dc9e0b-5d6f-4c7b-8c31-86d2bc104e14"
      },
      "execution_count": 39,
      "outputs": [
        {
          "output_type": "stream",
          "name": "stdout",
          "text": [
            "\n",
            "generated text:\n",
            "recipe for roasted vegetables | chop 1 / 3 /4\n",
            "\n"
          ]
        }
      ]
    },
    {
      "cell_type": "code",
      "source": [
        "print_probs(info, vocab)"
      ],
      "metadata": {
        "colab": {
          "base_uri": "https://localhost:8080/"
        },
        "id": "mGulY9N3jzRL",
        "outputId": "b7c7d229-36c4-4d8b-81df-c1e2015da723"
      },
      "execution_count": 40,
      "outputs": [
        {
          "output_type": "stream",
          "name": "stdout",
          "text": [
            "\n",
            "PROMPT: recipe for roasted vegetables | chop 1 /\n",
            "3:   \t79.74%\n",
            "2:   \t17.08%\n",
            "1:   \t3.03%\n",
            "5:   \t0.11%\n",
            "half:   \t0.04%\n",
            "--------\n",
            "\n",
            "\n",
            "PROMPT: recipe for roasted vegetables | chop 1 / 3\n",
            "/4:   \t100.0%\n",
            "tablespoons:   \t0.0%\n",
            "-:   \t0.0%\n",
            "pounds:   \t0.0%\n",
            "cups:   \t0.0%\n",
            "--------\n",
            "\n"
          ]
        }
      ]
    },
    {
      "cell_type": "code",
      "source": [
        "info = text_generator.generate(\n",
        "    \"recipe for chocolate ice cream |\", max_tokens=7, temperature=1.0\n",
        ")\n",
        "print_probs(info, vocab)"
      ],
      "metadata": {
        "colab": {
          "base_uri": "https://localhost:8080/"
        },
        "id": "6GeNnRekj0Yp",
        "outputId": "534182ef-265a-4eba-9935-29fdeaff3ab8"
      },
      "execution_count": 41,
      "outputs": [
        {
          "output_type": "stream",
          "name": "stdout",
          "text": [
            "\n",
            "generated text:\n",
            "recipe for chocolate ice cream | peel\n",
            "\n",
            "\n",
            "PROMPT: recipe for chocolate ice cream |\n",
            "in:   \t30.03%\n",
            "combine:   \t8.0%\n",
            "bring:   \t6.36%\n",
            "melt:   \t5.09%\n",
            "whisk:   \t4.83%\n",
            "--------\n",
            "\n"
          ]
        }
      ]
    },
    {
      "cell_type": "code",
      "source": [
        "info = text_generator.generate(\n",
        "    \"recipe for chocolate ice cream |\", max_tokens=7, temperature=0.2\n",
        ")\n",
        "print_probs(info, vocab)"
      ],
      "metadata": {
        "colab": {
          "base_uri": "https://localhost:8080/"
        },
        "id": "QqXFdwOOj3FE",
        "outputId": "cd9fd8dd-16c1-4fd3-a982-a50cec455be2"
      },
      "execution_count": 42,
      "outputs": [
        {
          "output_type": "stream",
          "name": "stdout",
          "text": [
            "\n",
            "generated text:\n",
            "recipe for chocolate ice cream | in\n",
            "\n",
            "\n",
            "PROMPT: recipe for chocolate ice cream |\n",
            "in:   \t99.79%\n",
            "combine:   \t0.13%\n",
            "bring:   \t0.04%\n",
            "melt:   \t0.01%\n",
            "whisk:   \t0.01%\n",
            "--------\n",
            "\n"
          ]
        }
      ]
    },
    {
      "cell_type": "markdown",
      "source": [
        "## Custom Generation"
      ],
      "metadata": {
        "id": "LmwEfsQ3ksbk"
      }
    },
    {
      "cell_type": "code",
      "source": [
        "import numpy as np\n",
        "\n",
        "def generate_text_from_model(model, index_to_word, start_prompt, max_tokens=100, temperature=1.0):\n",
        "    word_to_index = {word: index for index, word in enumerate(index_to_word)}\n",
        "\n",
        "    def sample_from(probs, temperature):\n",
        "        probs = probs ** (1 / temperature)\n",
        "        probs = probs / np.sum(probs)\n",
        "        return np.random.choice(len(probs), p=probs), probs\n",
        "\n",
        "    start_tokens = [word_to_index.get(x, 1) for x in start_prompt.split()]\n",
        "    sample_token = None\n",
        "    generated_text = \"\"\n",
        "\n",
        "    while len(start_tokens) < max_tokens and sample_token != 0:\n",
        "        x = np.array([start_tokens])\n",
        "        y = model.predict(x, verbose=0)\n",
        "        sample_token, _ = sample_from(y[0][-1], temperature)\n",
        "        start_tokens.append(sample_token)\n",
        "        generated_text += \" \" + index_to_word[sample_token]\n",
        "\n",
        "    return generated_text.strip()"
      ],
      "metadata": {
        "id": "M6QXakOFkGPY"
      },
      "execution_count": 53,
      "outputs": []
    },
    {
      "cell_type": "code",
      "source": [
        "model = lstm\n",
        "index_to_word = vocab"
      ],
      "metadata": {
        "id": "asCSkMFJkXxl"
      },
      "execution_count": 46,
      "outputs": []
    },
    {
      "cell_type": "code",
      "source": [
        "start_prompt = \"recipe for \"\n",
        "\n",
        "generated_text = generate_text_from_model(model, index_to_word, start_prompt, temperature=0.3)\n",
        "print(f\"Generated text:\\n{start_prompt + generated_text}\")"
      ],
      "metadata": {
        "colab": {
          "base_uri": "https://localhost:8080/"
        },
        "id": "HJPR7lJAmaja",
        "outputId": "db432af6-a0f7-4514-bea7-796879751cd9"
      },
      "execution_count": 58,
      "outputs": [
        {
          "output_type": "stream",
          "name": "stdout",
          "text": [
            "Generated text:\n",
            "recipe for grilled pork chops with salsa verde , and dill | preheat oven to 400°f . place 1 tablespoon oil in large bowl . add to dressing and toss to coat . season with salt and pepper . grill until cooked through , about 3 minutes per side . transfer to platter . sprinkle with remaining 1 /2 teaspoon sesame seeds .\n"
          ]
        }
      ]
    },
    {
      "cell_type": "code",
      "source": [
        "start_prompt = \"recipe for \"\n",
        "\n",
        "generated_text = generate_text_from_model(model, index_to_word, start_prompt, temperature=0.2)\n",
        "print(\"Recipe for:\")\n",
        "generated_text"
      ],
      "metadata": {
        "colab": {
          "base_uri": "https://localhost:8080/",
          "height": 105
        },
        "id": "05KOP5rqm2hi",
        "outputId": "c08f342e-9328-413b-f4f6-58136efa2765"
      },
      "execution_count": 63,
      "outputs": [
        {
          "output_type": "stream",
          "name": "stdout",
          "text": [
            "Recipe for:\n"
          ]
        },
        {
          "output_type": "execute_result",
          "data": {
            "text/plain": [
              "'grilled chicken with lemon , fennel , and mint | preheat oven to 400°f . toss together all ingredients in a large bowl . season with salt and pepper . heat oil in a large nonstick skillet over medium -high heat until hot but not smoking . working in batches , cook chicken in batches , turning once , until golden brown , about 5 minutes . turn off heat and cook until golden brown , about 5 minutes total . transfer to a platter and keep warm .'"
            ],
            "application/vnd.google.colaboratory.intrinsic+json": {
              "type": "string"
            }
          },
          "metadata": {},
          "execution_count": 63
        }
      ]
    },
    {
      "cell_type": "code",
      "source": [
        "start_prompt = input(\"Enter what would you want to generate recipe for: \")\n",
        "\n",
        "generated_text = generate_text_from_model(model, index_to_word, start_prompt, temperature=0.2)\n",
        "print(\"Recipe :\")\n",
        "generated_text"
      ],
      "metadata": {
        "colab": {
          "base_uri": "https://localhost:8080/",
          "height": 122
        },
        "id": "sS2C6L9rn0nO",
        "outputId": "110488b9-c75d-4aef-b200-c6ae9ddb37cb"
      },
      "execution_count": 65,
      "outputs": [
        {
          "output_type": "stream",
          "name": "stdout",
          "text": [
            "Enter what would you want to generate recipe for: recipe for chocolate brownie | \n",
            "Recipe :\n"
          ]
        },
        {
          "output_type": "execute_result",
          "data": {
            "text/plain": [
              "'preheat oven to 350°f . butter a 9 -inch -diameter cake pan with 1 1 /2 -inch -high sides with nonstick spray . line bottom of pan with parchment paper . sift flour , baking powder , and salt into medium bowl . using electric mixer , beat butter and butter in large bowl until fluffy . add eggs 1 at a time , beating well after each addition . beat in eggs 1 at a time , beating well after each addition . beat in eggs 1 at a time . add eggs 1'"
            ],
            "application/vnd.google.colaboratory.intrinsic+json": {
              "type": "string"
            }
          },
          "metadata": {},
          "execution_count": 65
        }
      ]
    },
    {
      "cell_type": "markdown",
      "source": [
        "Therefore random recipes are being generated everytime and the temperature decides the probablity of what token to expect"
      ],
      "metadata": {
        "id": "8qnmT4C1nG8f"
      }
    },
    {
      "cell_type": "code",
      "source": [
        "start_prompt = input(\"Enter what would you want to generate recipe for: \")\n",
        "\n",
        "generated_text = generate_text_from_model(model, index_to_word, start_prompt, temperature=0.2)\n",
        "print(\"Recipe :\")\n",
        "generated_text"
      ],
      "metadata": {
        "colab": {
          "base_uri": "https://localhost:8080/",
          "height": 105
        },
        "id": "pijoFAGandsr",
        "outputId": "0464a6a0-9e4a-481f-cb02-02612f9bc1ab"
      },
      "execution_count": 68,
      "outputs": [
        {
          "output_type": "stream",
          "name": "stdout",
          "text": [
            "Enter what would you want to generate recipe for: cold coffee | \n",
            "Recipe :\n"
          ]
        },
        {
          "output_type": "execute_result",
          "data": {
            "text/plain": [
              "'storage -speed /off foamy simmer ) blend brown sugar , brown sugar , and salt in a small saucepan over medium heat , stirring constantly , until mixture is reduced to about 2 1 /2 cups , about 3 minutes . stir in vanilla and stir until smooth . add 1 /2 cup sugar and 1 /4 cup water and stir until melted and smooth . pour into a large bowl and chill , covered , until cold , about 1 hour .'"
            ],
            "application/vnd.google.colaboratory.intrinsic+json": {
              "type": "string"
            }
          },
          "metadata": {},
          "execution_count": 68
        }
      ]
    },
    {
      "cell_type": "code",
      "source": [
        "start_prompt = input(\"Enter what would you want to generate recipe for: \")\n",
        "\n",
        "generated_text = generate_text_from_model(model, index_to_word, start_prompt, temperature=0.5)\n",
        "print(\"Recipe :\")\n",
        "generated_text"
      ],
      "metadata": {
        "colab": {
          "base_uri": "https://localhost:8080/",
          "height": 122
        },
        "id": "QYe1mq-JoTxr",
        "outputId": "e19ea86b-546c-4bf1-eb40-03b02ab66da4"
      },
      "execution_count": 72,
      "outputs": [
        {
          "output_type": "stream",
          "name": "stdout",
          "text": [
            "Enter what would you want to generate recipe for: cold coffee | \n",
            "Recipe :\n"
          ]
        },
        {
          "output_type": "execute_result",
          "data": {
            "text/plain": [
              "'generally angle tons touch soda white chocolate and almond frosting | in a food processor blend the flour , the sugar , the salt , the cinnamon , the salt , the cinnamon , and the sugar until it resembles coarse meal with some of the butter . make a 1 /2 -inch thick , drop in the water , cover , and refrigerate for 1 hour . in a small bowl , combine the apricots , sugar , and 1 /2 cup of the syrup . stir in the remaining 3 /4 cup sugar . set'"
            ],
            "application/vnd.google.colaboratory.intrinsic+json": {
              "type": "string"
            }
          },
          "metadata": {},
          "execution_count": 72
        }
      ]
    },
    {
      "cell_type": "markdown",
      "source": [
        "Different temperatures generate different recepies"
      ],
      "metadata": {
        "id": "q-adoMRzoujD"
      }
    },
    {
      "cell_type": "code",
      "source": [
        "start_prompt = input(\"Enter what would you want to generate recipe for: \")\n",
        "\n",
        "generated_text = generate_text_from_model(model, index_to_word, start_prompt, temperature=0.2)\n",
        "print(\"Recipe :\")\n",
        "generated_text"
      ],
      "metadata": {
        "colab": {
          "base_uri": "https://localhost:8080/",
          "height": 122
        },
        "id": "EL8IaiA_pIFH",
        "outputId": "68519138-43f0-4759-84de-c3d097754968"
      },
      "execution_count": 74,
      "outputs": [
        {
          "output_type": "stream",
          "name": "stdout",
          "text": [
            "Enter what would you want to generate recipe for: pizza | \n",
            "Recipe :\n"
          ]
        },
        {
          "output_type": "execute_result",
          "data": {
            "text/plain": [
              "'help wall least harden low low low low low low dissolve the flour a food processor ) and pulse the dough in a food processor until it is very smooth . add the flour and pulse the dough until the dough is smooth . knead the dough in a food processor until smooth . transfer the dough to a floured surface and knead it until the dough is smooth . knead the dough until smooth and elastic , adding more water by 1 inch of the dough for 1 1 /2 hours , until the dough is very'"
            ],
            "application/vnd.google.colaboratory.intrinsic+json": {
              "type": "string"
            }
          },
          "metadata": {},
          "execution_count": 74
        }
      ]
    },
    {
      "cell_type": "code",
      "source": [
        "start_prompt = input(\"Enter what would you want to generate recipe for: \")\n",
        "\n",
        "generated_text = generate_text_from_model(model, index_to_word, start_prompt, temperature=1)\n",
        "print(\"Recipe :\")\n",
        "generated_text"
      ],
      "metadata": {
        "colab": {
          "base_uri": "https://localhost:8080/",
          "height": 122
        },
        "id": "K0qWTtEIpfL8",
        "outputId": "d88613d7-0230-4d17-af2f-cc5f477fb2c2"
      },
      "execution_count": 76,
      "outputs": [
        {
          "output_type": "stream",
          "name": "stdout",
          "text": [
            "Enter what would you want to generate recipe for: pizza | \n",
            "Recipe :\n"
          ]
        },
        {
          "output_type": "execute_result",
          "data": {
            "text/plain": [
              "'2 lukewarm milk for 3 /4 cup of frozen liquid . 2 . lightly with water , drop the brittle quarters into the small bowl and cover and freeze for 30 minutes , then cover and refrigerate . 2 . preheat the oven to 350°f . 325°f with each of the cheddar , and cook for 2 minutes , about 7 to 10 minutes , or until the eggs are firm . while time , break the cobs into salt and ground to combine . before serving , you should be stiff and about completely before you allow'"
            ],
            "application/vnd.google.colaboratory.intrinsic+json": {
              "type": "string"
            }
          },
          "metadata": {},
          "execution_count": 76
        }
      ]
    },
    {
      "cell_type": "code",
      "source": [
        "start_prompt = input(\"Enter what would you want to generate recipe for: \")\n",
        "\n",
        "generated_text = generate_text_from_model(model, index_to_word, start_prompt, temperature=1)\n",
        "print(\"Recipe :\")\n",
        "generated_text"
      ],
      "metadata": {
        "colab": {
          "base_uri": "https://localhost:8080/",
          "height": 122
        },
        "id": "pVULlyJ9p0Cr",
        "outputId": "2cbc7295-d736-4b20-a39c-9cf63de86430"
      },
      "execution_count": 77,
      "outputs": [
        {
          "output_type": "stream",
          "name": "stdout",
          "text": [
            "Enter what would you want to generate recipe for: recipe for \n",
            "Recipe :\n"
          ]
        },
        {
          "output_type": "execute_result",
          "data": {
            "text/plain": [
              "'braised turkey and peppers with tomatoes , olives , and vinegar | combine anchovies and garlic in blender . whisk until beginning to smoke , about 3 tablespoons soy sauce , without running water until vegetables are soft and red wine is almost at color . transfer to small bowl ; mash peas with some salt and pepper . add chicken to skillet and pork chops . pour marinade into plastic and secure with cheese . sprinkle fish with fish and marinade can be prepared 3 hours ahead . cover tightly with plastic . refrigerate until turkey can'"
            ],
            "application/vnd.google.colaboratory.intrinsic+json": {
              "type": "string"
            }
          },
          "metadata": {},
          "execution_count": 77
        }
      ]
    },
    {
      "cell_type": "code",
      "source": [
        "start_prompt = \"recipe for \"\n",
        "\n",
        "generated_text = generate_text_from_model(model, index_to_word, start_prompt, temperature=0.75)\n",
        "print(\"Recipe for:\")\n",
        "generated_text"
      ],
      "metadata": {
        "colab": {
          "base_uri": "https://localhost:8080/",
          "height": 105
        },
        "id": "GJOSm-lVp_d2",
        "outputId": "765f3a97-ae45-41ac-f0c9-33d4c316b51f"
      },
      "execution_count": 81,
      "outputs": [
        {
          "output_type": "stream",
          "name": "stdout",
          "text": [
            "Recipe for:\n"
          ]
        },
        {
          "output_type": "execute_result",
          "data": {
            "text/plain": [
              "'coconut lime pie | preheat oven to 400°f . finely grind yolks and flour in processor . add sugar and ground cardamom . blend until just combined . process in bowl with coarse puree . using on /off turns , grind spice mixture in processor until smooth . transfer to small bowl . cool slightly . mix in orange peel . mix in parsley , and next 5 ingredients . process until smooth . transfer mixture to large bowl . whisk in cream mixture . spread glaze over cake and bake until golden brown and center is golden'"
            ],
            "application/vnd.google.colaboratory.intrinsic+json": {
              "type": "string"
            }
          },
          "metadata": {},
          "execution_count": 81
        }
      ]
    },
    {
      "cell_type": "code",
      "source": [],
      "metadata": {
        "id": "1ctbN9SoqWBT"
      },
      "execution_count": null,
      "outputs": []
    }
  ]
}